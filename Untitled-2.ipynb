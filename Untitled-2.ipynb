{
 "cells": [
  {
   "cell_type": "markdown",
   "metadata": {},
   "source": [
    "# 1"
   ]
  },
  {
   "cell_type": "code",
   "execution_count": 1,
   "metadata": {},
   "outputs": [
    {
     "name": "stdout",
     "output_type": "stream",
     "text": [
      "This will return student details of data science\n",
      "This is class for student details\n"
     ]
    }
   ],
   "source": [
    "# Abstract Class\n",
    "# Abstract class is used for writing template or bluprint of the class\n",
    "# import abc\n",
    "# @abc.abstractmethod   for writing the abstract Method\n",
    "\n",
    "import abc\n",
    "\n",
    "class skills:\n",
    "    @abc.abstractmethod\n",
    "    def student_details(self):\n",
    "        pass\n",
    "    \n",
    "    @abc.abstractmethod\n",
    "    def student_assignment(self):\n",
    "        pass\n",
    "\n",
    "    @abc.abstractmethod\n",
    "    def student_marks(self):\n",
    "        pass\n",
    "\n",
    "# This is an example of abstract class and this class will only aect as template class\n",
    "\n",
    "# return super().student_details(self\n",
    "\n",
    "class student_details(skills):\n",
    "    def student_details(self):\n",
    "        return \"This is class for student details\"\n",
    "    def student_assignment(self):\n",
    "        return \"This is class for student assignment details\"\n",
    "    def student_marks(self):\n",
    "        return \"This is class for student marks\"\n",
    "\n",
    "\n",
    "class data_science(skills):\n",
    "    def student_details(self):\n",
    "        return \"This will return student details of data science\"\n",
    "    def student_assignment(self):\n",
    "        return \"This will return assignment details of data science\"\n",
    "\n",
    "dsm=data_science()\n",
    "print(dsm.student_details())\n",
    "st=student_details()\n",
    "print(st.student_details())"
   ]
  },
  {
   "cell_type": "markdown",
   "metadata": {},
   "source": [
    "# 2"
   ]
  },
  {
   "cell_type": "markdown",
   "metadata": {},
   "source": [
    "Abstraction is a method of removing the unnecessary details in the code and focusing on the relevant parts. For example, instead of writing a function that multiplies two numbers, we can write a function “multiply” and use it to multiply any number with any number. Abstraction is a way of representing some specific data. Encapsulation is a way of hiding the complexity of something and exposing only the parts you wish to expose. For example, if you have a class that has one or more private fields that you use to store the data, then you are in encapsulation. The class contains the data and has methods that expose the public data"
   ]
  },
  {
   "cell_type": "code",
   "execution_count": 3,
   "metadata": {},
   "outputs": [
    {
     "name": "stdout",
     "output_type": "stream",
     "text": [
      "This will return student details of data science\n",
      "This is class for student details\n"
     ]
    }
   ],
   "source": [
    "# Encapsulation\n",
    "\n",
    "class car:\n",
    "    def __init__(self,year,make,model,speed):\n",
    "        \n",
    "        self.__year=year\n",
    "        self.__make=make\n",
    "        self.__model=model\n",
    "        self.__speed=speed\n",
    "\n",
    "    def set_speed(self,speed):\n",
    "        self.__speed = 0 if speed <0 else speed\n",
    "\n",
    "    def get_speed(self):\n",
    "        return self.__speed\n",
    "c=car(2021,\"toyata\",\"innova\",9)\n",
    "c.set_speed(75)\n",
    "c.get_speed()\n",
    "\n",
    "# Abstration\n",
    "# Abstract Class\n",
    "# Abstract class is used for writing template or bluprint of the class\n",
    "# import abc\n",
    "# @abc.abstractmethod   for writing the abstract Method\n",
    "\n",
    "import abc\n",
    "\n",
    "class skills:\n",
    "    @abc.abstractmethod\n",
    "    def student_details(self):\n",
    "        pass\n",
    "    \n",
    "    @abc.abstractmethod\n",
    "    def student_assignment(self):\n",
    "        pass\n",
    "\n",
    "    @abc.abstractmethod\n",
    "    def student_marks(self):\n",
    "        pass\n",
    "\n",
    "# This is an example of abstract class and this class will only aect as template class\n",
    "\n",
    "# return super().student_details(self\n",
    "\n",
    "class student_details(skills):\n",
    "    def student_details(self):\n",
    "        return \"This is class for student details\"\n",
    "    def student_assignment(self):\n",
    "        return \"This is class for student assignment details\"\n",
    "    def student_marks(self):\n",
    "        return \"This is class for student marks\"\n",
    "\n",
    "\n",
    "class data_science(skills):\n",
    "    def student_details(self):\n",
    "        return \"This will return student details of data science\"\n",
    "    def student_assignment(self):\n",
    "        return \"This will return assignment details of data science\"\n",
    "\n",
    "dsm=data_science()\n",
    "print(dsm.student_details())\n",
    "st=student_details()\n",
    "print(st.student_details())"
   ]
  },
  {
   "cell_type": "markdown",
   "metadata": {},
   "source": [
    "# 3"
   ]
  },
  {
   "cell_type": "markdown",
   "metadata": {},
   "source": [
    "This module provides the infrastructure for defining abstract base classes (ABCs) in Python\n",
    "\n",
    "The main goal of the abstract base class is to provide a standardized way to test whether an object adheres to a given specification. It can also prevent any attempt to instantiate a subclass that doesn’t override a particular method in the superclass. And finally, using an abstract class, a class can derive identity from another class without any object inheritance"
   ]
  },
  {
   "cell_type": "markdown",
   "metadata": {},
   "source": [
    "# 4"
   ]
  },
  {
   "cell_type": "markdown",
   "metadata": {},
   "source": [
    "In Python, abstraction can be achieved by having/using abstract classes and methods in our programs. Understanding Abstract Methods and Classes: An abstract method is a method that is declared, but does not contain implementation"
   ]
  },
  {
   "cell_type": "markdown",
   "metadata": {},
   "source": [
    "# 5"
   ]
  },
  {
   "cell_type": "markdown",
   "metadata": {},
   "source": [
    "Abstract classes cannot be instantiated, but they can be subclassed."
   ]
  },
  {
   "cell_type": "markdown",
   "metadata": {},
   "source": [
    "As in Abstract class only virtual functions are written and they are generally opver wirtten by the subclass"
   ]
  },
  {
   "cell_type": "code",
   "execution_count": null,
   "metadata": {},
   "outputs": [],
   "source": []
  }
 ],
 "metadata": {
  "kernelspec": {
   "display_name": "Python 3.10.6 64-bit",
   "language": "python",
   "name": "python3"
  },
  "language_info": {
   "codemirror_mode": {
    "name": "ipython",
    "version": 3
   },
   "file_extension": ".py",
   "mimetype": "text/x-python",
   "name": "python",
   "nbconvert_exporter": "python",
   "pygments_lexer": "ipython3",
   "version": "3.10.6"
  },
  "orig_nbformat": 4,
  "vscode": {
   "interpreter": {
    "hash": "242e53798b1b28e7bfe32dcc5eb3f3319e661438dc615fd11948bc00bdefd052"
   }
  }
 },
 "nbformat": 4,
 "nbformat_minor": 2
}
