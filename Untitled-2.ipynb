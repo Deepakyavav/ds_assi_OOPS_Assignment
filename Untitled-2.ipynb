{
 "cells": [
  {
   "attachments": {},
   "cell_type": "markdown",
   "metadata": {},
   "source": [
    "# 1"
   ]
  },
  {
   "cell_type": "code",
   "execution_count": 26,
   "metadata": {},
   "outputs": [
    {
     "name": "stdout",
     "output_type": "stream",
     "text": [
      "This will return student details of data science\n",
      "This is class for student details\n"
     ]
    }
   ],
   "source": [
    "# Abstract Class\n",
    "# Abstract class is used for writing template or bluprint of the class\n",
    "# Abstract class actually are blueprint of further defined class\n",
    "# import abc\n",
    "# @abc.abstractmethod   for writing the abstract Method\n",
    "# And this function defination is allways redined aganin in nest class\n",
    "# The function on the object will aect depending upon the class to to chich objet belings\n",
    "\n",
    "\n",
    "from abc import ABC, abstractmethod\n",
    "\n",
    "class skills(ABC):\n",
    "    @abc.abstractmethod\n",
    "    def student_details(self):\n",
    "        pass\n",
    "    \n",
    "    @abc.abstractmethod\n",
    "    def student_assignment(self):\n",
    "        pass\n",
    "\n",
    "# This is an example of abstract class and this class will only aect as template class\n",
    "\n",
    "# return super().student_details(self\n",
    "\n",
    "class student_details(skills):\n",
    "    def student_details(self):\n",
    "        return \"This is class for student details\"\n",
    "    def student_assignment(self):\n",
    "        return \"This is class for student assignment details\"\n",
    "    def student_marks(self):\n",
    "        return \"This is class for student marks\"\n",
    "\n",
    "\n",
    "class data_science(skills):\n",
    "    def student_details(self):\n",
    "        return \"This will return student details of data science\"\n",
    "    def student_assignment(self):\n",
    "        return \"This will return assignment details of data science\"\n",
    "\n",
    "dsm=data_science()\n",
    "print(dsm.student_details())\n",
    "st=student_details()\n",
    "print(st.student_details())"
   ]
  },
  {
   "attachments": {},
   "cell_type": "markdown",
   "metadata": {},
   "source": [
    "# 2"
   ]
  },
  {
   "attachments": {},
   "cell_type": "markdown",
   "metadata": {},
   "source": [
    "Abstraction is a method of removing the unnecessary details in the code and focusing on the relevant parts. For example, instead of writing a function that multiplies two numbers, we can write a function “multiply” and use it to multiply any number with any number. Abstraction is a way of representing some specific data. \n",
    "\n",
    "Encapsulation is a way of hiding the complexity of something and exposing only the parts you wish to expose. For example, if you have a class that has one or more private fields that you use to store the data, then you are in encapsulation. The class contains the data and has methods that expose the public data\n",
    "Encupselation is hideing System level and implementation details of the function to avoid mishandeling of the functions of the functions from the user.\n"
   ]
  },
  {
   "cell_type": "code",
   "execution_count": 28,
   "metadata": {},
   "outputs": [
    {
     "name": "stdout",
     "output_type": "stream",
     "text": [
      "This will return assignment details of data science\n",
      "This functuon represents the assignemt details of web development\n"
     ]
    }
   ],
   "source": [
    "# Encapsulation\n",
    "\n",
    "class car:\n",
    "    def __init__(self,year,make,model,speed):\n",
    "        \n",
    "        self.__year=year\n",
    "        self.__make=make\n",
    "        self.__model=model\n",
    "        self.__speed=speed\n",
    "\n",
    "    def set_speed(self,speed):\n",
    "        self.__speed = 0 if speed <0 else speed\n",
    "\n",
    "    def get_speed(self):\n",
    "        return self.__speed\n",
    "c=car(2021,\"toyata\",\"innova\",9)\n",
    "c.set_speed(75)\n",
    "c.get_speed()\n",
    "\n",
    "# Abstration\n",
    "# Abstract Class\n",
    "# Abstract class is used for writing template or bluprint of the class\n",
    "# import abc\n",
    "# @abc.abstractmethod   for writing the abstract Method\n",
    "\n",
    "from abc import ABC, abstractmethod\n",
    "\n",
    "class skills(ABC):\n",
    "    @abc.abstractmethod\n",
    "    def student_details(self):\n",
    "        pass\n",
    "    \n",
    "    @abc.abstractmethod\n",
    "    def student_assignment(self):\n",
    "        pass\n",
    "\n",
    "# This is an example of abstract class and this class will only aect as template class\n",
    "\n",
    "# return super().student_details(self\n",
    "\n",
    "class web_dev(skills):\n",
    "    def student_assignment(self):\n",
    "        return \"This functuon represents the assignemt details of web development\"\n",
    "    def student_details(self):\n",
    "        return \"This function will return student details of Web Development\"\n",
    "\n",
    "class data_science(skills):\n",
    "    def student_details(self):\n",
    "        return \"This will return student details of data science\"\n",
    "    def student_assignment(self):\n",
    "        return \"This will return assignment details of data science\"\n",
    "\n",
    "dsm=data_science()\n",
    "print(dsm.student_assignment())\n",
    "st=web_dev()\n",
    "print(st.student_assignment())"
   ]
  },
  {
   "attachments": {},
   "cell_type": "markdown",
   "metadata": {},
   "source": [
    "# 3"
   ]
  },
  {
   "attachments": {},
   "cell_type": "markdown",
   "metadata": {},
   "source": [
    "abc module provides the infrastructure for defining abstract base classes (ABCs) in Python\n",
    "\n",
    "The main goal of the abstract base class is to provide a standardized way to test whether an object adheres to a given specification. It can also prevent any attempt to instantiate a subclass that doesn’t override a particular method in the superclass. And finally, using an abstract class, a class can derive identity from another class without any object inheritance"
   ]
  },
  {
   "attachments": {},
   "cell_type": "markdown",
   "metadata": {},
   "source": [
    "# 4"
   ]
  },
  {
   "attachments": {},
   "cell_type": "markdown",
   "metadata": {},
   "source": [
    "In Python, abstraction can be achieved by having/using abstract classes and methods in our programs. Understanding Abstract Methods and Classes: An abstract method is a method that is declared, but does not contain implementation\n",
    "\n",
    "And further class are defined inheriting the abstract class and and the defination of the abstract class is implemented in next defined class"
   ]
  },
  {
   "cell_type": "code",
   "execution_count": 31,
   "metadata": {},
   "outputs": [
    {
     "name": "stdout",
     "output_type": "stream",
     "text": [
      "This will return assignment details of data science\n",
      "This functuon represents the assignemt details of web development\n"
     ]
    }
   ],
   "source": [
    "# Example and working of abstract class\n",
    "from abc import ABC, abstractmethod\n",
    "\n",
    "class skills(ABC):\n",
    "    @abc.abstractmethod\n",
    "    def student_assignment(self):\n",
    "        pass\n",
    "\n",
    "# This is an example of abstract class and this class will only aect as template class\n",
    "\n",
    "# return super().student_details(self\n",
    "\n",
    "class web_dev(skills):\n",
    "    def student_assignment(self):\n",
    "        return \"This functuon represents the assignemt details of web development\"\n",
    "\n",
    "class data_science(skills):\n",
    "    def student_details(self):\n",
    "        return \"This will return student details of data science\"\n",
    "    def student_assignment(self):\n",
    "        return \"This will return assignment details of data science\"\n",
    "\n",
    "dsm=data_science()\n",
    "print(dsm.student_assignment())\n",
    "st=web_dev()\n",
    "print(st.student_assignment())"
   ]
  },
  {
   "attachments": {},
   "cell_type": "markdown",
   "metadata": {},
   "source": [
    "# 5"
   ]
  },
  {
   "attachments": {},
   "cell_type": "markdown",
   "metadata": {},
   "source": [
    "Abstract classes cannot be instantiated, but they can be subclassed."
   ]
  },
  {
   "attachments": {},
   "cell_type": "markdown",
   "metadata": {},
   "source": [
    "As in Abstract class only virtual functions are written and they are generally opver wirtten by the subclass\n",
    "\n",
    "\n",
    "Abstract classes are not complete, as they may have some methods that are not defined. So we cannot create an instance or object of an abstract class in Python. If we try to instantiate the abstract class, it raises an error."
   ]
  },
  {
   "cell_type": "code",
   "execution_count": 33,
   "metadata": {},
   "outputs": [
    {
     "ename": "TypeError",
     "evalue": "Can't instantiate abstract class skills with abstract method student_assignment",
     "output_type": "error",
     "traceback": [
      "\u001b[1;31m---------------------------------------------------------------------------\u001b[0m",
      "\u001b[1;31mTypeError\u001b[0m                                 Traceback (most recent call last)",
      "Cell \u001b[1;32mIn[33], line 8\u001b[0m\n\u001b[0;32m      5\u001b[0m     \u001b[39m@abc\u001b[39m\u001b[39m.\u001b[39mabstractmethod\n\u001b[0;32m      6\u001b[0m     \u001b[39mdef\u001b[39;00m \u001b[39mstudent_assignment\u001b[39m(\u001b[39mself\u001b[39m):\n\u001b[0;32m      7\u001b[0m         \u001b[39mpass\u001b[39;00m\n\u001b[1;32m----> 8\u001b[0m k1\u001b[39m=\u001b[39mskills()\n",
      "\u001b[1;31mTypeError\u001b[0m: Can't instantiate abstract class skills with abstract method student_assignment"
     ]
    }
   ],
   "source": [
    "#we try to instantiate the abstract class, it raises an error.\n",
    "from abc import ABC, abstractmethod\n",
    "\n",
    "class skills(ABC):\n",
    "    @abc.abstractmethod\n",
    "    def student_assignment(self):\n",
    "        pass\n",
    "k1=skills()"
   ]
  },
  {
   "cell_type": "code",
   "execution_count": null,
   "metadata": {},
   "outputs": [],
   "source": []
  }
 ],
 "metadata": {
  "kernelspec": {
   "display_name": "Python 3.10.6 64-bit",
   "language": "python",
   "name": "python3"
  },
  "language_info": {
   "codemirror_mode": {
    "name": "ipython",
    "version": 3
   },
   "file_extension": ".py",
   "mimetype": "text/x-python",
   "name": "python",
   "nbconvert_exporter": "python",
   "pygments_lexer": "ipython3",
   "version": "3.11.2"
  },
  "orig_nbformat": 4,
  "vscode": {
   "interpreter": {
    "hash": "242e53798b1b28e7bfe32dcc5eb3f3319e661438dc615fd11948bc00bdefd052"
   }
  }
 },
 "nbformat": 4,
 "nbformat_minor": 2
}
